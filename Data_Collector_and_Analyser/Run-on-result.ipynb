{
 "cells": [
  {
   "cell_type": "code",
   "execution_count": 1,
   "metadata": {},
   "outputs": [],
   "source": [
    "import joblib\n",
    "import pandas as pd\n",
    "import requests\n",
    "from datetime import datetime\n",
    "\n",
    "model = joblib.load(\"../Traffic_Analyzer/traffic_model.pkl\")\n",
    "le_day = joblib.load(\"../Traffic_Analyzer/day_encoder.pkl\")\n",
    "le_target = joblib.load(\"../Traffic_Analyzer/target_encoder.pkl\")\n"
   ]
  },
  {
   "cell_type": "code",
   "execution_count": 2,
   "metadata": {},
   "outputs": [],
   "source": [
    "from dotenv import load_dotenv\n",
    "import os\n",
    "load_dotenv()\n",
    "API_KEY = os.getenv(\"API_KEY\")\n"
   ]
  },
  {
   "cell_type": "code",
   "execution_count": 3,
   "metadata": {},
   "outputs": [],
   "source": [
    "coords = [\n",
    "    (52.1548439, 4.4721623), (52.1683388, 4.4860599), (52.1476338, 4.4752352),\n",
    "    (52.1686146, 4.4931477), (52.1519037, 4.5206045), (52.1632703, 4.4582134),\n",
    "    (52.1417215, 4.4768956), (52.156569, 4.4950595), (52.1635883, 4.4580728),\n",
    "    (52.1597215, 4.4968029), (52.1549858, 4.4949476), (52.1681008, 4.4864105),\n",
    "    (52.1521453, 4.5208762), (52.1544488, 4.440454)\n",
    "]"
   ]
  },
  {
   "cell_type": "code",
   "execution_count": 4,
   "metadata": {},
   "outputs": [],
   "source": [
    "def estimate_car_count(current_speed, free_speed):\n",
    "    if free_speed == 0:\n",
    "        return 0\n",
    "    ratio = current_speed / free_speed\n",
    "    if ratio >= 0.9:\n",
    "        return 40  # Low traffic\n",
    "    elif ratio >= 0.6:\n",
    "        return 90  # Medium\n",
    "    elif ratio >= 0.3:\n",
    "        return 140  # High\n",
    "    else:\n",
    "        return 180  # Very high\n"
   ]
  },
  {
   "cell_type": "code",
   "execution_count": 5,
   "metadata": {},
   "outputs": [
    {
     "name": "stdout",
     "output_type": "stream",
     "text": [
      "52.1548439,4.4721623 → 44/44 km/h → Estimated traffic: low\n",
      "52.1683388,4.4860599 → 31/31 km/h → Estimated traffic: low\n",
      "52.1476338,4.4752352 → 44/44 km/h → Estimated traffic: low\n",
      "52.1686146,4.4931477 → 48/48 km/h → Estimated traffic: low\n",
      "52.1519037,4.5206045 → 42/49 km/h → Estimated traffic: normal\n",
      "52.1632703,4.4582134 → 36/36 km/h → Estimated traffic: low\n",
      "52.1417215,4.4768956 → 42/42 km/h → Estimated traffic: low\n",
      "52.156569,4.4950595 → 24/30 km/h → Estimated traffic: normal\n",
      "52.1635883,4.4580728 → 39/39 km/h → Estimated traffic: low\n",
      "52.1597215,4.4968029 → 36/36 km/h → Estimated traffic: low\n",
      "52.1549858,4.4949476 → 24/30 km/h → Estimated traffic: normal\n",
      "52.1681008,4.4864105 → 46/46 km/h → Estimated traffic: low\n",
      "52.1521453,4.5208762 → 23/31 km/h → Estimated traffic: normal\n",
      "52.1544488,4.440454 → 85/85 km/h → Estimated traffic: low\n"
     ]
    }
   ],
   "source": [
    "now = datetime.now()\n",
    "hour = now.hour\n",
    "day_encoded = le_day.transform([now.strftime(\"%A\")])[0]\n",
    "url_template = \"https://api.tomtom.com/traffic/services/4/flowSegmentData/absolute/10/json\"\n",
    "\n",
    "\n",
    "for lat, lon in coords:\n",
    "    params = {\"key\": API_KEY, \"point\": f\"{lat},{lon}\"}\n",
    "    r = requests.get(url_template, params=params)\n",
    "    data = r.json()\n",
    "    \n",
    "    speed = data[\"flowSegmentData\"][\"currentSpeed\"]\n",
    "    free = data[\"flowSegmentData\"][\"freeFlowSpeed\"]\n",
    "\n",
    "    car_count = estimate_car_count(speed, free)\n",
    "    \n",
    "    # Dummy values for other vehicles\n",
    "    X_input = pd.DataFrame([[\n",
    "        hour, day_encoded, car_count, 10, 5, 5\n",
    "    ]], columns=[\"Hour\", \"DayEncoded\", \"CarCount\", \"BikeCount\", \"BusCount\", \"TruckCount\"])\n",
    "    \n",
    "    label = model.predict(X_input)[0]\n",
    "    situation = le_target.inverse_transform([label])[0]\n",
    "\n",
    "    print(f\"{lat},{lon} → {speed}/{free} km/h → Estimated traffic: {situation}\")\n"
   ]
  }
 ],
 "metadata": {
  "kernelspec": {
   "display_name": "base",
   "language": "python",
   "name": "python3"
  },
  "language_info": {
   "codemirror_mode": {
    "name": "ipython",
    "version": 3
   },
   "file_extension": ".py",
   "mimetype": "text/x-python",
   "name": "python",
   "nbconvert_exporter": "python",
   "pygments_lexer": "ipython3",
   "version": "3.12.2"
  }
 },
 "nbformat": 4,
 "nbformat_minor": 2
}
